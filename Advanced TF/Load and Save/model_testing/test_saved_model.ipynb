{
 "cells": [
  {
   "cell_type": "code",
   "execution_count": 7,
   "id": "3520f1e3",
   "metadata": {},
   "outputs": [
    {
     "name": "stderr",
     "output_type": "stream",
     "text": [
      "c:\\Users\\ADARSH\\.conda\\envs\\tf_env\\lib\\site-packages\\keras\\src\\layers\\convolutional\\base_conv.py:113: UserWarning: Do not pass an `input_shape`/`input_dim` argument to a layer. When using Sequential models, prefer using an `Input(shape)` object as the first layer in the model instead.\n",
      "  super().__init__(activity_regularizer=activity_regularizer, **kwargs)\n"
     ]
    },
    {
     "name": "stdout",
     "output_type": "stream",
     "text": [
      "Epoch 1/10\n",
      "\u001b[1m1500/1500\u001b[0m \u001b[32m━━━━━━━━━━━━━━━━━━━━\u001b[0m\u001b[37m\u001b[0m \u001b[1m17s\u001b[0m 10ms/step - accuracy: 0.7325 - loss: 0.7302 - val_accuracy: 0.8638 - val_loss: 0.3773\n",
      "Epoch 2/10\n",
      "\u001b[1m1500/1500\u001b[0m \u001b[32m━━━━━━━━━━━━━━━━━━━━\u001b[0m\u001b[37m\u001b[0m \u001b[1m13s\u001b[0m 9ms/step - accuracy: 0.8601 - loss: 0.3866 - val_accuracy: 0.8820 - val_loss: 0.3175\n",
      "Epoch 3/10\n",
      "\u001b[1m1500/1500\u001b[0m \u001b[32m━━━━━━━━━━━━━━━━━━━━\u001b[0m\u001b[37m\u001b[0m \u001b[1m13s\u001b[0m 9ms/step - accuracy: 0.8775 - loss: 0.3347 - val_accuracy: 0.8881 - val_loss: 0.3035\n",
      "Epoch 4/10\n",
      "\u001b[1m1500/1500\u001b[0m \u001b[32m━━━━━━━━━━━━━━━━━━━━\u001b[0m\u001b[37m\u001b[0m \u001b[1m14s\u001b[0m 9ms/step - accuracy: 0.8882 - loss: 0.2977 - val_accuracy: 0.8938 - val_loss: 0.2837\n",
      "Epoch 5/10\n",
      "\u001b[1m1500/1500\u001b[0m \u001b[32m━━━━━━━━━━━━━━━━━━━━\u001b[0m\u001b[37m\u001b[0m \u001b[1m13s\u001b[0m 8ms/step - accuracy: 0.8956 - loss: 0.2761 - val_accuracy: 0.9051 - val_loss: 0.2676\n",
      "Epoch 6/10\n",
      "\u001b[1m1500/1500\u001b[0m \u001b[32m━━━━━━━━━━━━━━━━━━━━\u001b[0m\u001b[37m\u001b[0m \u001b[1m13s\u001b[0m 9ms/step - accuracy: 0.9041 - loss: 0.2545 - val_accuracy: 0.9017 - val_loss: 0.2616\n",
      "Epoch 7/10\n",
      "\u001b[1m1500/1500\u001b[0m \u001b[32m━━━━━━━━━━━━━━━━━━━━\u001b[0m\u001b[37m\u001b[0m \u001b[1m13s\u001b[0m 9ms/step - accuracy: 0.9086 - loss: 0.2423 - val_accuracy: 0.9047 - val_loss: 0.2564\n",
      "Epoch 8/10\n",
      "\u001b[1m1500/1500\u001b[0m \u001b[32m━━━━━━━━━━━━━━━━━━━━\u001b[0m\u001b[37m\u001b[0m \u001b[1m13s\u001b[0m 8ms/step - accuracy: 0.9109 - loss: 0.2336 - val_accuracy: 0.9097 - val_loss: 0.2454\n",
      "Epoch 9/10\n",
      "\u001b[1m1500/1500\u001b[0m \u001b[32m━━━━━━━━━━━━━━━━━━━━\u001b[0m\u001b[37m\u001b[0m \u001b[1m14s\u001b[0m 9ms/step - accuracy: 0.9184 - loss: 0.2195 - val_accuracy: 0.9122 - val_loss: 0.2427\n",
      "Epoch 10/10\n",
      "\u001b[1m1500/1500\u001b[0m \u001b[32m━━━━━━━━━━━━━━━━━━━━\u001b[0m\u001b[37m\u001b[0m \u001b[1m13s\u001b[0m 9ms/step - accuracy: 0.9219 - loss: 0.2094 - val_accuracy: 0.9122 - val_loss: 0.2391\n",
      "INFO:tensorflow:Assets written to: C:/Users/ADARSH/Downloads/saved_model/1\\assets\n"
     ]
    },
    {
     "name": "stderr",
     "output_type": "stream",
     "text": [
      "INFO:tensorflow:Assets written to: C:/Users/ADARSH/Downloads/saved_model/1\\assets\n"
     ]
    },
    {
     "name": "stdout",
     "output_type": "stream",
     "text": [
      "Saved artifact at 'C:/Users/ADARSH/Downloads/saved_model/1'. The following endpoints are available:\n",
      "\n",
      "* Endpoint 'serve'\n",
      "  args_0 (POSITIONAL_ONLY): TensorSpec(shape=(None, 28, 28, 1), dtype=tf.float32, name='keras_tensor_8')\n",
      "Output Type:\n",
      "  TensorSpec(shape=(None, 10), dtype=tf.float32, name=None)\n",
      "Captures:\n",
      "  2404190283808: TensorSpec(shape=(), dtype=tf.resource, name=None)\n",
      "  2404190382992: TensorSpec(shape=(), dtype=tf.resource, name=None)\n",
      "  2404190386160: TensorSpec(shape=(), dtype=tf.resource, name=None)\n",
      "  2404190387744: TensorSpec(shape=(), dtype=tf.resource, name=None)\n",
      "  2404190387920: TensorSpec(shape=(), dtype=tf.resource, name=None)\n",
      "  2404190474432: TensorSpec(shape=(), dtype=tf.resource, name=None)\n",
      "  2404190470560: TensorSpec(shape=(), dtype=tf.resource, name=None)\n",
      "  2404190470384: TensorSpec(shape=(), dtype=tf.resource, name=None)\n",
      "Model exported to C:/Users/ADARSH/Downloads/saved_model/1\n"
     ]
    }
   ],
   "source": [
    "import tensorflow as tf\n",
    "from tensorflow.keras import Sequential\n",
    "from tensorflow.keras.layers import Conv2D, MaxPooling2D,Flatten,Dense,Dropout\n",
    "from tensorflow.keras.utils import to_categorical\n",
    "from tensorflow.keras.datasets import fashion_mnist\n",
    "from sklearn.model_selection import train_test_split\n",
    "import matplotlib.pyplot as plt\n",
    "import numpy as np\n",
    "\n",
    "(x_train,y_train),(x_test,y_test)=fashion_mnist.load_data()\n",
    "x_train=x_train.reshape((-1,28,28,1)).astype('float32')/255.0\n",
    "x_test=x_test.reshape((-1,28,28,1)).astype('float32')/255.0\n",
    "y_train=to_categorical(y_train,10)\n",
    "y_test=to_categorical(y_test,10)\n",
    "\n",
    "#Split the data into training and validation sets\n",
    "x_train,x_val,y_train,y_val=train_test_split(x_train,y_train,test_size=0.2,random_state=42)\n",
    "\n",
    "model=Sequential([\n",
    "    Conv2D(32,kernel_size=(3,3),activation='relu',input_shape=(28,28,1)),\n",
    "    MaxPooling2D(pool_size=(2,2)),\n",
    "    Conv2D(32,kernel_size=(3,3),activation='relu'),\n",
    "    MaxPooling2D(pool_size=(2,2)),\n",
    "    Flatten(),\n",
    "    Dropout(0.3),\n",
    "    Dense(128,activation='relu'),\n",
    "    Dense(10,activation='softmax')\n",
    "])\n",
    "\n",
    "model.compile(optimizer='adam',loss='categorical_crossentropy',metrics=['accuracy'])\n",
    "\n",
    "model.fit(x_train,y_train,epochs=10,batch_size=32,validation_data=(x_val,y_val))\n",
    "\n",
    "\n",
    "\n",
    "# ✅ Export for TensorFlow Serving\n",
    "export_path = \"C:/Users/ADARSH/Downloads/saved_model/1\"\n",
    "model.export(export_path)\n",
    "print(f\"Model exported to {export_path}\")\n"
   ]
  },
  {
   "cell_type": "code",
   "execution_count": 17,
   "id": "56ba2b58",
   "metadata": {},
   "outputs": [
    {
     "name": "stdout",
     "output_type": "stream",
     "text": [
      "{'predictions': [[0.0901232213, 0.0798598751, 0.120819032, 0.0951336548, 0.094939515, 0.102226026, 0.0980775654, 0.0753462389, 0.150925145, 0.092549704]]}\n"
     ]
    }
   ],
   "source": [
    "import requests, json\n",
    "import numpy as np\n",
    "\n",
    "data = {\n",
    "    \"signature_name\": \"serving_default\",\n",
    "    \"instances\": np.random.rand(1, 28, 28).tolist()\n",
    "}\n",
    "\n",
    "response = requests.post(\"http://localhost:8501/v1/models/saved_model:predict\", json=data)\n",
    "print(response.json())\n"
   ]
  },
  {
   "cell_type": "code",
   "execution_count": 18,
   "id": "3592ccea",
   "metadata": {},
   "outputs": [
    {
     "name": "stdout",
     "output_type": "stream",
     "text": [
      "Predicted digit: 8\n"
     ]
    }
   ],
   "source": [
    "import numpy as np\n",
    "\n",
    "pred = [0.0860122517, 0.0798024386, 0.116337605, 0.0987222791, 0.0990732089,\n",
    "        0.0904200524, 0.0970608667, 0.0825301707, 0.152064666, 0.097976476]\n",
    "predicted_class = np.argmax(pred)\n",
    "print(f\"Predicted digit: {predicted_class}\")\n"
   ]
  },
  {
   "cell_type": "markdown",
   "id": "e56f6c98",
   "metadata": {},
   "source": [
    "docker rm tf_model_serving_v2\n"
   ]
  },
  {
   "cell_type": "markdown",
   "id": "b5579791",
   "metadata": {},
   "source": [
    "docker run -p 8501:8501 ^\n",
    "\n",
    "  --name=tf_model_serving_v2 ^\n",
    "\n",
    "  --mount type=bind,source=\"C:/Users/ADARSH/Downloads/saved_model\",target=/models/saved_model ^\n",
    "\n",
    "  -e MODEL_NAME=saved_model ^\n",
    "\n",
    "  -t tensorflow/serving\n"
   ]
  }
 ],
 "metadata": {
  "kernelspec": {
   "display_name": "Python (tf_env)",
   "language": "python",
   "name": "tf_env"
  },
  "language_info": {
   "codemirror_mode": {
    "name": "ipython",
    "version": 3
   },
   "file_extension": ".py",
   "mimetype": "text/x-python",
   "name": "python",
   "nbconvert_exporter": "python",
   "pygments_lexer": "ipython3",
   "version": "3.10.16"
  }
 },
 "nbformat": 4,
 "nbformat_minor": 5
}
