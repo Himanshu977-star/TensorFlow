{
 "cells": [
  {
   "cell_type": "code",
   "execution_count": 46,
   "id": "a79e4205",
   "metadata": {},
   "outputs": [],
   "source": [
    "import tensorflow as tf\n",
    "import numpy as np"
   ]
  },
  {
   "cell_type": "code",
   "execution_count": 47,
   "id": "facdbc9b",
   "metadata": {},
   "outputs": [],
   "source": [
    "#Define Architecture\n",
    "input_size = 784      # e.g., 28x28 MNIST images flattened\n",
    "hidden_size = 128\n",
    "output_size = 10      # for 10 digit classes (0–9)\n",
    "num_epochs = 100\n",
    "batch_size = 64 "
   ]
  },
  {
   "cell_type": "code",
   "execution_count": 48,
   "id": "3c42ff33",
   "metadata": {},
   "outputs": [],
   "source": [
    "#Specify the input and output data types\n",
    "tf.compat.v1.disable_eager_execution()\n",
    "x=tf.compat.v1.placeholder(tf.float32,shape=[None,input_size])\n",
    "y=tf.compat.v1.placeholder(tf.float32,shape=[None,output_size])"
   ]
  },
  {
   "cell_type": "code",
   "execution_count": 49,
   "id": "2ef0378e",
   "metadata": {},
   "outputs": [],
   "source": [
    "#Configure the hidden layer\n",
    "hidden_layer = tf.keras.layers.Dense(units=hidden_size, activation='relu')(x)"
   ]
  },
  {
   "cell_type": "code",
   "execution_count": 50,
   "id": "44ef1770",
   "metadata": {},
   "outputs": [],
   "source": [
    "#Specify the output layer\n",
    "output_layer=tf.keras.layers.Dense(units=output_size)(hidden_layer)"
   ]
  },
  {
   "cell_type": "code",
   "execution_count": 51,
   "id": "734178cf",
   "metadata": {},
   "outputs": [],
   "source": [
    "#Define the loss function\n",
    "loss=tf.reduce_mean(tf.nn.softmax_cross_entropy_with_logits(labels=y,logits=output_layer))"
   ]
  },
  {
   "cell_type": "code",
   "execution_count": 52,
   "id": "3665ac90",
   "metadata": {},
   "outputs": [],
   "source": [
    "#Select the optimization algorithm\n",
    "optimizer=tf.compat.v1.train.AdamOptimizer(learning_rate=0.001)\n",
    "train=optimizer.minimize(loss)"
   ]
  },
  {
   "cell_type": "code",
   "execution_count": 53,
   "id": "1ada604c",
   "metadata": {},
   "outputs": [
    {
     "name": "stdout",
     "output_type": "stream",
     "text": [
      "Epoch: 0, Loss: 2.528851\n",
      "Epoch: 1, Loss: 2.287189\n",
      "Epoch: 2, Loss: 2.172236\n",
      "Epoch: 3, Loss: 2.042687\n",
      "Epoch: 4, Loss: 1.933107\n",
      "Epoch: 5, Loss: 1.829855\n",
      "Epoch: 6, Loss: 1.724746\n",
      "Epoch: 7, Loss: 1.626845\n",
      "Epoch: 8, Loss: 1.526410\n",
      "Epoch: 9, Loss: 1.422913\n",
      "Epoch: 10, Loss: 1.321990\n",
      "Epoch: 11, Loss: 1.227052\n",
      "Epoch: 12, Loss: 1.131168\n",
      "Epoch: 13, Loss: 1.033745\n",
      "Epoch: 14, Loss: 0.945294\n",
      "Epoch: 15, Loss: 0.860923\n",
      "Epoch: 16, Loss: 0.777535\n",
      "Epoch: 17, Loss: 0.701236\n",
      "Epoch: 18, Loss: 0.629807\n",
      "Epoch: 19, Loss: 0.562122\n",
      "Epoch: 20, Loss: 0.499928\n",
      "Epoch: 21, Loss: 0.442842\n",
      "Epoch: 22, Loss: 0.391637\n",
      "Epoch: 23, Loss: 0.346189\n",
      "Epoch: 24, Loss: 0.305394\n",
      "Epoch: 25, Loss: 0.269257\n",
      "Epoch: 26, Loss: 0.237954\n",
      "Epoch: 27, Loss: 0.210621\n",
      "Epoch: 28, Loss: 0.186616\n",
      "Epoch: 29, Loss: 0.165557\n",
      "Epoch: 30, Loss: 0.146931\n",
      "Epoch: 31, Loss: 0.130850\n",
      "Epoch: 32, Loss: 0.117012\n",
      "Epoch: 33, Loss: 0.104986\n",
      "Epoch: 34, Loss: 0.094512\n",
      "Epoch: 35, Loss: 0.085271\n",
      "Epoch: 36, Loss: 0.077207\n",
      "Epoch: 37, Loss: 0.070210\n",
      "Epoch: 38, Loss: 0.064115\n",
      "Epoch: 39, Loss: 0.058723\n",
      "Epoch: 40, Loss: 0.053952\n",
      "Epoch: 41, Loss: 0.049724\n",
      "Epoch: 42, Loss: 0.045986\n",
      "Epoch: 43, Loss: 0.042686\n",
      "Epoch: 44, Loss: 0.039777\n",
      "Epoch: 45, Loss: 0.037187\n",
      "Epoch: 46, Loss: 0.034872\n",
      "Epoch: 47, Loss: 0.032784\n",
      "Epoch: 48, Loss: 0.030901\n",
      "Epoch: 49, Loss: 0.029205\n",
      "Epoch: 50, Loss: 0.027678\n",
      "Epoch: 51, Loss: 0.026301\n",
      "Epoch: 52, Loss: 0.025052\n",
      "Epoch: 53, Loss: 0.023914\n",
      "Epoch: 54, Loss: 0.022871\n",
      "Epoch: 55, Loss: 0.021916\n",
      "Epoch: 56, Loss: 0.021040\n",
      "Epoch: 57, Loss: 0.020234\n",
      "Epoch: 58, Loss: 0.019489\n",
      "Epoch: 59, Loss: 0.018798\n",
      "Epoch: 60, Loss: 0.018158\n",
      "Epoch: 61, Loss: 0.017563\n",
      "Epoch: 62, Loss: 0.017007\n",
      "Epoch: 63, Loss: 0.016488\n",
      "Epoch: 64, Loss: 0.016004\n",
      "Epoch: 65, Loss: 0.015552\n",
      "Epoch: 66, Loss: 0.015128\n",
      "Epoch: 67, Loss: 0.014730\n",
      "Epoch: 68, Loss: 0.014355\n",
      "Epoch: 69, Loss: 0.014002\n",
      "Epoch: 70, Loss: 0.013668\n",
      "Epoch: 71, Loss: 0.013352\n",
      "Epoch: 72, Loss: 0.013052\n",
      "Epoch: 73, Loss: 0.012767\n",
      "Epoch: 74, Loss: 0.012495\n",
      "Epoch: 75, Loss: 0.012235\n",
      "Epoch: 76, Loss: 0.011988\n",
      "Epoch: 77, Loss: 0.011752\n",
      "Epoch: 78, Loss: 0.011526\n",
      "Epoch: 79, Loss: 0.011309\n",
      "Epoch: 80, Loss: 0.011100\n",
      "Epoch: 81, Loss: 0.010899\n",
      "Epoch: 82, Loss: 0.010706\n",
      "Epoch: 83, Loss: 0.010520\n",
      "Epoch: 84, Loss: 0.010341\n",
      "Epoch: 85, Loss: 0.010168\n",
      "Epoch: 86, Loss: 0.010001\n",
      "Epoch: 87, Loss: 0.009839\n",
      "Epoch: 88, Loss: 0.009683\n",
      "Epoch: 89, Loss: 0.009532\n",
      "Epoch: 90, Loss: 0.009385\n",
      "Epoch: 91, Loss: 0.009242\n",
      "Epoch: 92, Loss: 0.009103\n",
      "Epoch: 93, Loss: 0.008968\n",
      "Epoch: 94, Loss: 0.008838\n",
      "Epoch: 95, Loss: 0.008711\n",
      "Epoch: 96, Loss: 0.008587\n",
      "Epoch: 97, Loss: 0.008466\n",
      "Epoch: 98, Loss: 0.008348\n",
      "Epoch: 99, Loss: 0.008234\n"
     ]
    }
   ],
   "source": [
    "#Train the model\n",
    "input_data = np.random.rand(batch_size, input_size).astype(np.float32)\n",
    "target_labels = np.eye(output_size)[np.random.choice(output_size, batch_size)].astype(np.float32)\n",
    "with tf.compat.v1.Session() as sess:\n",
    "    sess.run(tf.compat.v1.global_variables_initializer())\n",
    "\n",
    "    for epoch in range(num_epochs):\n",
    "        _, curr_loss = sess.run([train, loss], feed_dict={x: input_data, y: target_labels})\n",
    "        print(\"Epoch: %d, Loss: %f\" % (epoch, curr_loss))"
   ]
  },
  {
   "cell_type": "code",
   "execution_count": null,
   "id": "274aaa25",
   "metadata": {},
   "outputs": [],
   "source": []
  }
 ],
 "metadata": {
  "kernelspec": {
   "display_name": "Python (tf_env)",
   "language": "python",
   "name": "tf_env"
  },
  "language_info": {
   "codemirror_mode": {
    "name": "ipython",
    "version": 3
   },
   "file_extension": ".py",
   "mimetype": "text/x-python",
   "name": "python",
   "nbconvert_exporter": "python",
   "pygments_lexer": "ipython3",
   "version": "3.10.16"
  }
 },
 "nbformat": 4,
 "nbformat_minor": 5
}
