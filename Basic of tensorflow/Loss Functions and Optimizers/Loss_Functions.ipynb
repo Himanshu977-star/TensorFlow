{
 "cells": [
  {
   "cell_type": "code",
   "execution_count": 2,
   "id": "f24fb372",
   "metadata": {},
   "outputs": [],
   "source": [
    "import tensorflow as tf"
   ]
  },
  {
   "cell_type": "code",
   "execution_count": 3,
   "id": "423cb253",
   "metadata": {},
   "outputs": [],
   "source": [
    "#Loss Functions"
   ]
  },
  {
   "cell_type": "code",
   "execution_count": 4,
   "id": "e23dd778",
   "metadata": {},
   "outputs": [
    {
     "name": "stdout",
     "output_type": "stream",
     "text": [
      "tf.Tensor(792100.0, shape=(), dtype=float32)\n"
     ]
    }
   ],
   "source": [
    "#1.Mean Squared Error\n",
    "print(tf.keras.losses.MSE([900],[10]))"
   ]
  },
  {
   "cell_type": "code",
   "execution_count": 9,
   "id": "5b7dd6fc",
   "metadata": {},
   "outputs": [
    {
     "data": {
      "text/plain": [
       "np.float32(-143.48146)"
      ]
     },
     "execution_count": 9,
     "metadata": {},
     "output_type": "execute_result"
    }
   ],
   "source": [
    "#2.Binary Cross Entropy\n",
    "output=tf.keras.losses.binary_crossentropy([10.0],[100.0])\n",
    "output.numpy()\n"
   ]
  },
  {
   "cell_type": "code",
   "execution_count": 13,
   "id": "10d8306e",
   "metadata": {},
   "outputs": [
    {
     "name": "stdout",
     "output_type": "stream",
     "text": [
      "tf.Tensor(1.0986123, shape=(), dtype=float32)\n"
     ]
    }
   ],
   "source": [
    "#3.Categorical Cross Entropy\n",
    "print(tf.keras.losses.categorical_crossentropy([0.5,0.25,0.25],[0.25,0.25,0.25]))"
   ]
  },
  {
   "cell_type": "code",
   "execution_count": 18,
   "id": "91c78cd2",
   "metadata": {},
   "outputs": [
    {
     "name": "stdout",
     "output_type": "stream",
     "text": [
      "tf.Tensor([0.10536056 0.10536056 0.10536056], shape=(3,), dtype=float32)\n"
     ]
    }
   ],
   "source": [
    "#4.Sparse Categorical Cross Entropy\n",
    "y_true=tf.constant([0,1,2])\n",
    "y_pred=tf.constant([[0.9,0.05,0.05],[0.05,0.9,0.05],[0.05,0.05,0.9]])\n",
    "print(tf.keras.losses.sparse_categorical_crossentropy(y_true,y_pred))"
   ]
  }
 ],
 "metadata": {
  "kernelspec": {
   "display_name": "Python (tf_env)",
   "language": "python",
   "name": "tf_env"
  },
  "language_info": {
   "codemirror_mode": {
    "name": "ipython",
    "version": 3
   },
   "file_extension": ".py",
   "mimetype": "text/x-python",
   "name": "python",
   "nbconvert_exporter": "python",
   "pygments_lexer": "ipython3",
   "version": "3.10.16"
  }
 },
 "nbformat": 4,
 "nbformat_minor": 5
}
