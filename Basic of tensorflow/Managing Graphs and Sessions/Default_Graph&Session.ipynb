{
 "cells": [
  {
   "cell_type": "code",
   "execution_count": 1,
   "id": "0a65d484",
   "metadata": {},
   "outputs": [],
   "source": [
    "import tensorflow as tf"
   ]
  },
  {
   "cell_type": "code",
   "execution_count": 2,
   "id": "301f0cf5",
   "metadata": {},
   "outputs": [],
   "source": [
    "graph=tf.Graph()"
   ]
  },
  {
   "cell_type": "code",
   "execution_count": 4,
   "id": "895bfbf2",
   "metadata": {},
   "outputs": [],
   "source": [
    "with graph.as_default():\n",
    " a=tf.constant(100)\n",
    " b=tf.constant(200)\n",
    " c=tf.multiply(a,b)"
   ]
  },
  {
   "cell_type": "code",
   "execution_count": null,
   "id": "3e1cd62c",
   "metadata": {},
   "outputs": [
    {
     "name": "stdout",
     "output_type": "stream",
     "text": [
      "20000\n"
     ]
    }
   ],
   "source": [
    "with tf.compat.v1.Session(graph=graph) as sess:\n",
    "    result=sess.run(c)\n",
    "    print(result)\n",
    "#Default Graph is not possible to use"
   ]
  },
  {
   "cell_type": "code",
   "execution_count": null,
   "id": "c4291972",
   "metadata": {},
   "outputs": [],
   "source": []
  }
 ],
 "metadata": {
  "kernelspec": {
   "display_name": "Python (tf_env)",
   "language": "python",
   "name": "tf_env"
  },
  "language_info": {
   "codemirror_mode": {
    "name": "ipython",
    "version": 3
   },
   "file_extension": ".py",
   "mimetype": "text/x-python",
   "name": "python",
   "nbconvert_exporter": "python",
   "pygments_lexer": "ipython3",
   "version": "3.10.16"
  }
 },
 "nbformat": 4,
 "nbformat_minor": 5
}
