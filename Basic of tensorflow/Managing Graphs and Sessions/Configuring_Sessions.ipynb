{
 "cells": [
  {
   "cell_type": "code",
   "execution_count": 1,
   "id": "496ef331",
   "metadata": {},
   "outputs": [],
   "source": [
    "import tensorflow as tf"
   ]
  },
  {
   "cell_type": "code",
   "execution_count": 2,
   "id": "6b3b6009",
   "metadata": {},
   "outputs": [],
   "source": [
    "graph=tf.Graph()"
   ]
  },
  {
   "cell_type": "code",
   "execution_count": 3,
   "id": "8f28e182",
   "metadata": {},
   "outputs": [],
   "source": [
    "with graph.as_default():\n",
    "    a=tf.constant(2)\n",
    "    b=tf.constant(3)\n",
    "    c=tf.add(a,b)"
   ]
  },
  {
   "cell_type": "code",
   "execution_count": 5,
   "id": "8d54bc31",
   "metadata": {},
   "outputs": [
    {
     "name": "stdout",
     "output_type": "stream",
     "text": [
      "Device mapping: no known devices.\n",
      "5\n"
     ]
    }
   ],
   "source": [
    "#Configuration of session\n",
    "config=tf.compat.v1.ConfigProto()\n",
    "config.log_device_placement=True\n",
    "config.gpu_options.allow_growth=True\n",
    "\n",
    "with tf.compat.v1.Session(config=config,graph=graph) as sess:\n",
    "    result=sess.run(c)\n",
    "    print(result)"
   ]
  },
  {
   "cell_type": "code",
   "execution_count": null,
   "id": "df926fca",
   "metadata": {},
   "outputs": [],
   "source": []
  }
 ],
 "metadata": {
  "kernelspec": {
   "display_name": "Python (tf_env)",
   "language": "python",
   "name": "tf_env"
  },
  "language_info": {
   "codemirror_mode": {
    "name": "ipython",
    "version": 3
   },
   "file_extension": ".py",
   "mimetype": "text/x-python",
   "name": "python",
   "nbconvert_exporter": "python",
   "pygments_lexer": "ipython3",
   "version": "3.10.16"
  }
 },
 "nbformat": 4,
 "nbformat_minor": 5
}
