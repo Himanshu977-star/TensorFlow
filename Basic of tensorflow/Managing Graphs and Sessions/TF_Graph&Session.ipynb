{
 "cells": [
  {
   "cell_type": "code",
   "execution_count": 1,
   "id": "f5959ceb",
   "metadata": {},
   "outputs": [],
   "source": [
    "import tensorflow as tf"
   ]
  },
  {
   "cell_type": "code",
   "execution_count": null,
   "id": "c2b59a85",
   "metadata": {},
   "outputs": [],
   "source": [
    "#create a new tensorflow graph ie multiple graph\n",
    "graph=tf.Graph()"
   ]
  },
  {
   "cell_type": "code",
   "execution_count": 3,
   "id": "2f066b8e",
   "metadata": {},
   "outputs": [],
   "source": [
    "#add operation to the graph\n",
    "with graph.as_default():\n",
    "    a=tf.constant(2)\n",
    "    b=tf.constant(3)\n",
    "    c=tf.add(a,b)"
   ]
  },
  {
   "cell_type": "code",
   "execution_count": null,
   "id": "af89b3fd",
   "metadata": {},
   "outputs": [
    {
     "name": "stdout",
     "output_type": "stream",
     "text": [
      "5\n"
     ]
    }
   ],
   "source": [
    "#Create tensorflow session\n",
    "#You cannot run it empty without graph\n",
    "with tf.compat.v1.Session(graph=graph) as sess:\n",
    "    result=sess.run(c)\n",
    "    print(result)"
   ]
  },
  {
   "cell_type": "code",
   "execution_count": null,
   "id": "8f2499c1",
   "metadata": {},
   "outputs": [],
   "source": []
  }
 ],
 "metadata": {
  "kernelspec": {
   "display_name": "Python (tf_env)",
   "language": "python",
   "name": "tf_env"
  },
  "language_info": {
   "codemirror_mode": {
    "name": "ipython",
    "version": 3
   },
   "file_extension": ".py",
   "mimetype": "text/x-python",
   "name": "python",
   "nbconvert_exporter": "python",
   "pygments_lexer": "ipython3",
   "version": "3.10.16"
  }
 },
 "nbformat": 4,
 "nbformat_minor": 5
}
