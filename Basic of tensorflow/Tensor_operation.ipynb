{
 "cells": [
  {
   "cell_type": "code",
   "execution_count": 33,
   "id": "932d0586",
   "metadata": {},
   "outputs": [],
   "source": [
    "#Tensor operation\n",
    "import tensorflow as tf\n"
   ]
  },
  {
   "cell_type": "code",
   "execution_count": 34,
   "id": "c3fe0d67",
   "metadata": {},
   "outputs": [],
   "source": [
    "#create tensors\n",
    "tensor_a=tf.constant([[1,2],[3,4]])\n",
    "tensor_b=tf.constant([[5,6],[7,8]])"
   ]
  },
  {
   "cell_type": "code",
   "execution_count": 35,
   "id": "775197d1",
   "metadata": {},
   "outputs": [],
   "source": [
    "#Arithmetic operation\n"
   ]
  },
  {
   "cell_type": "code",
   "execution_count": 36,
   "id": "01c3dccc",
   "metadata": {},
   "outputs": [
    {
     "data": {
      "text/plain": [
       "<tf.Tensor: shape=(2, 2), dtype=int32, numpy=\n",
       "array([[ 6,  8],\n",
       "       [10, 12]], dtype=int32)>"
      ]
     },
     "execution_count": 36,
     "metadata": {},
     "output_type": "execute_result"
    }
   ],
   "source": [
    "tf.add(tensor_a,tensor_b)"
   ]
  },
  {
   "cell_type": "code",
   "execution_count": 37,
   "id": "757a3fb0",
   "metadata": {},
   "outputs": [
    {
     "data": {
      "text/plain": [
       "<tf.Tensor: shape=(2, 2), dtype=int32, numpy=\n",
       "array([[-4, -4],\n",
       "       [-4, -4]], dtype=int32)>"
      ]
     },
     "execution_count": 37,
     "metadata": {},
     "output_type": "execute_result"
    }
   ],
   "source": [
    "tf.subtract(tensor_a,tensor_b)"
   ]
  },
  {
   "cell_type": "code",
   "execution_count": 38,
   "id": "603a3a7e",
   "metadata": {},
   "outputs": [
    {
     "data": {
      "text/plain": [
       "<tf.Tensor: shape=(2, 2), dtype=int32, numpy=\n",
       "array([[ 5, 12],\n",
       "       [21, 32]], dtype=int32)>"
      ]
     },
     "execution_count": 38,
     "metadata": {},
     "output_type": "execute_result"
    }
   ],
   "source": [
    "tf.multiply(tensor_a,tensor_b)"
   ]
  },
  {
   "cell_type": "code",
   "execution_count": 39,
   "id": "a8ec3cbd",
   "metadata": {},
   "outputs": [
    {
     "data": {
      "text/plain": [
       "<tf.Tensor: shape=(2, 2), dtype=float64, numpy=\n",
       "array([[0.2       , 0.33333333],\n",
       "       [0.42857143, 0.5       ]])>"
      ]
     },
     "execution_count": 39,
     "metadata": {},
     "output_type": "execute_result"
    }
   ],
   "source": [
    "tf.divide(tensor_a,tensor_b)"
   ]
  },
  {
   "cell_type": "code",
   "execution_count": 40,
   "id": "3ce169b3",
   "metadata": {},
   "outputs": [
    {
     "data": {
      "text/plain": [
       "<tf.Tensor: shape=(2, 2), dtype=int32, numpy=\n",
       "array([[ 1,  4],\n",
       "       [ 9, 16]], dtype=int32)>"
      ]
     },
     "execution_count": 40,
     "metadata": {},
     "output_type": "execute_result"
    }
   ],
   "source": [
    "tf.square(tensor_a)"
   ]
  },
  {
   "cell_type": "code",
   "execution_count": 41,
   "id": "24262b91",
   "metadata": {},
   "outputs": [
    {
     "data": {
      "text/plain": [
       "<tf.Tensor: shape=(2, 2), dtype=int32, numpy=\n",
       "array([[25, 36],\n",
       "       [49, 64]], dtype=int32)>"
      ]
     },
     "execution_count": 41,
     "metadata": {},
     "output_type": "execute_result"
    }
   ],
   "source": [
    "tf.square(tensor_b)"
   ]
  },
  {
   "cell_type": "code",
   "execution_count": 42,
   "id": "32412e5d",
   "metadata": {},
   "outputs": [
    {
     "data": {
      "text/plain": [
       "<tf.Tensor: shape=(2, 2), dtype=float32, numpy=\n",
       "array([[1.       , 1.4142135],\n",
       "       [1.7320508, 2.       ]], dtype=float32)>"
      ]
     },
     "execution_count": 42,
     "metadata": {},
     "output_type": "execute_result"
    }
   ],
   "source": [
    "#tf.sqrt(tensor_a) it does not support int32 value, it only sopport float value\n",
    "tf.sqrt(tf.cast(tensor_a, tf.float32))"
   ]
  },
  {
   "cell_type": "code",
   "execution_count": 43,
   "id": "965f1710",
   "metadata": {},
   "outputs": [
    {
     "data": {
      "text/plain": [
       "<tf.Tensor: shape=(2, 2), dtype=float32, numpy=\n",
       "array([[ 2.7182817,  7.389056 ],\n",
       "       [20.085537 , 54.59815  ]], dtype=float32)>"
      ]
     },
     "execution_count": 43,
     "metadata": {},
     "output_type": "execute_result"
    }
   ],
   "source": [
    "#exponential, it only work for exponential\n",
    "tf.exp(tf.cast(tensor_a, tf.float32))"
   ]
  },
  {
   "cell_type": "code",
   "execution_count": 44,
   "id": "1dfb7571",
   "metadata": {},
   "outputs": [
    {
     "data": {
      "text/plain": [
       "<tf.Tensor: shape=(2, 2), dtype=float32, numpy=\n",
       "array([[0.       , 0.6931472],\n",
       "       [1.0986123, 1.3862944]], dtype=float32)>"
      ]
     },
     "execution_count": 44,
     "metadata": {},
     "output_type": "execute_result"
    }
   ],
   "source": [
    "#logarithmic\n",
    "tf.math.log(tf.cast(tensor_a, tf.float32))"
   ]
  },
  {
   "cell_type": "code",
   "execution_count": 45,
   "id": "cc08c172",
   "metadata": {},
   "outputs": [],
   "source": [
    "#Reduction Operation"
   ]
  },
  {
   "cell_type": "code",
   "execution_count": 46,
   "id": "0fedaf03",
   "metadata": {},
   "outputs": [
    {
     "data": {
      "text/plain": [
       "<tf.Tensor: shape=(), dtype=int32, numpy=10>"
      ]
     },
     "execution_count": 46,
     "metadata": {},
     "output_type": "execute_result"
    }
   ],
   "source": [
    "tf.reduce_sum(tensor_a)"
   ]
  },
  {
   "cell_type": "code",
   "execution_count": 47,
   "id": "17a8d5c6",
   "metadata": {},
   "outputs": [
    {
     "data": {
      "text/plain": [
       "<tf.Tensor: shape=(), dtype=int32, numpy=2>"
      ]
     },
     "execution_count": 47,
     "metadata": {},
     "output_type": "execute_result"
    }
   ],
   "source": [
    "tf.reduce_mean(tensor_a)"
   ]
  },
  {
   "cell_type": "code",
   "execution_count": 48,
   "id": "a81d52bb",
   "metadata": {},
   "outputs": [
    {
     "data": {
      "text/plain": [
       "<tf.Tensor: shape=(), dtype=int32, numpy=8>"
      ]
     },
     "execution_count": 48,
     "metadata": {},
     "output_type": "execute_result"
    }
   ],
   "source": [
    "tf.reduce_max(tensor_b)"
   ]
  },
  {
   "cell_type": "code",
   "execution_count": 49,
   "id": "e620c326",
   "metadata": {},
   "outputs": [],
   "source": [
    "#Matrix Operation"
   ]
  },
  {
   "cell_type": "code",
   "execution_count": 50,
   "id": "65009da0",
   "metadata": {},
   "outputs": [
    {
     "data": {
      "text/plain": [
       "<tf.Tensor: shape=(2, 2), dtype=int32, numpy=\n",
       "array([[19, 22],\n",
       "       [43, 50]], dtype=int32)>"
      ]
     },
     "execution_count": 50,
     "metadata": {},
     "output_type": "execute_result"
    }
   ],
   "source": [
    "#multiplication\n",
    "tf.matmul(tensor_a,tensor_b)"
   ]
  },
  {
   "cell_type": "code",
   "execution_count": 51,
   "id": "279a285f",
   "metadata": {},
   "outputs": [
    {
     "data": {
      "text/plain": [
       "<tf.Tensor: shape=(2, 2), dtype=int32, numpy=\n",
       "array([[1, 3],\n",
       "       [2, 4]], dtype=int32)>"
      ]
     },
     "execution_count": 51,
     "metadata": {},
     "output_type": "execute_result"
    }
   ],
   "source": [
    "#Transportation\n",
    "tf.transpose(tensor_a)"
   ]
  },
  {
   "cell_type": "code",
   "execution_count": 52,
   "id": "ffccd3b7",
   "metadata": {},
   "outputs": [
    {
     "data": {
      "text/plain": [
       "<tf.Tensor: shape=(2, 2), dtype=float32, numpy=\n",
       "array([[-2.0000002 ,  1.0000001 ],\n",
       "       [ 1.5000001 , -0.50000006]], dtype=float32)>"
      ]
     },
     "execution_count": 52,
     "metadata": {},
     "output_type": "execute_result"
    }
   ],
   "source": [
    "\n",
    "#Matrix Inverse\n",
    "tf.linalg.inv(tf.cast(tensor_a, tf.float32))"
   ]
  },
  {
   "cell_type": "code",
   "execution_count": 62,
   "id": "263d7d3f",
   "metadata": {},
   "outputs": [],
   "source": [
    "#Operation which only work for float are:\n",
    "#tf.sqrt()\n",
    "#tf.exp()\n",
    "#tf.math.log()\n",
    "#tf.linalg.inv"
   ]
  },
  {
   "cell_type": "code",
   "execution_count": 54,
   "id": "04f7b761",
   "metadata": {},
   "outputs": [
    {
     "data": {
      "text/plain": [
       "<tf.Tensor: shape=(), dtype=int32, numpy=1>"
      ]
     },
     "execution_count": 54,
     "metadata": {},
     "output_type": "execute_result"
    }
   ],
   "source": [
    "#indexing and slicing\n",
    "tensor_a[0,0]"
   ]
  },
  {
   "cell_type": "code",
   "execution_count": 55,
   "id": "75715c26",
   "metadata": {},
   "outputs": [
    {
     "data": {
      "text/plain": [
       "<tf.Tensor: shape=(), dtype=int32, numpy=2>"
      ]
     },
     "execution_count": 55,
     "metadata": {},
     "output_type": "execute_result"
    }
   ],
   "source": [
    "tensor_a[0,1]"
   ]
  },
  {
   "cell_type": "code",
   "execution_count": 56,
   "id": "8a92fc54",
   "metadata": {},
   "outputs": [
    {
     "data": {
      "text/plain": [
       "<tf.Tensor: shape=(2,), dtype=int32, numpy=array([1, 2], dtype=int32)>"
      ]
     },
     "execution_count": 56,
     "metadata": {},
     "output_type": "execute_result"
    }
   ],
   "source": [
    "tensor_a[0,:]"
   ]
  },
  {
   "cell_type": "code",
   "execution_count": 57,
   "id": "26e92a21",
   "metadata": {},
   "outputs": [
    {
     "data": {
      "text/plain": [
       "<tf.Tensor: shape=(2,), dtype=int32, numpy=array([1, 3], dtype=int32)>"
      ]
     },
     "execution_count": 57,
     "metadata": {},
     "output_type": "execute_result"
    }
   ],
   "source": [
    "tensor_a[:,0]"
   ]
  },
  {
   "cell_type": "code",
   "execution_count": 58,
   "id": "dfac093b",
   "metadata": {},
   "outputs": [
    {
     "data": {
      "text/plain": [
       "<tf.Tensor: shape=(2,), dtype=int32, numpy=array([2, 4], dtype=int32)>"
      ]
     },
     "execution_count": 58,
     "metadata": {},
     "output_type": "execute_result"
    }
   ],
   "source": [
    "tensor_a[:,1]"
   ]
  },
  {
   "cell_type": "code",
   "execution_count": 59,
   "id": "ab2aefd2",
   "metadata": {},
   "outputs": [
    {
     "data": {
      "text/plain": [
       "<tf.Tensor: shape=(2, 2), dtype=int32, numpy=\n",
       "array([[2, 4],\n",
       "       [4, 6]], dtype=int32)>"
      ]
     },
     "execution_count": 59,
     "metadata": {},
     "output_type": "execute_result"
    }
   ],
   "source": [
    "#Broadcasting\n",
    "tensor_c=tf.constant([[1,2]])\n",
    "tensor_a+tensor_c"
   ]
  },
  {
   "cell_type": "code",
   "execution_count": 60,
   "id": "5f400d98",
   "metadata": {},
   "outputs": [
    {
     "data": {
      "text/plain": [
       "<tf.Tensor: shape=(2, 2), dtype=int32, numpy=\n",
       "array([[1, 4],\n",
       "       [3, 8]], dtype=int32)>"
      ]
     },
     "execution_count": 60,
     "metadata": {},
     "output_type": "execute_result"
    }
   ],
   "source": [
    "tensor_a*tensor_c"
   ]
  },
  {
   "cell_type": "code",
   "execution_count": 61,
   "id": "d1221d79",
   "metadata": {},
   "outputs": [
    {
     "data": {
      "text/plain": [
       "<tf.Tensor: shape=(2, 2), dtype=int32, numpy=\n",
       "array([[0, 0],\n",
       "       [2, 2]], dtype=int32)>"
      ]
     },
     "execution_count": 61,
     "metadata": {},
     "output_type": "execute_result"
    }
   ],
   "source": [
    "tensor_a-tensor_c"
   ]
  },
  {
   "cell_type": "code",
   "execution_count": null,
   "id": "1dbdc675",
   "metadata": {},
   "outputs": [],
   "source": []
  }
 ],
 "metadata": {
  "kernelspec": {
   "display_name": "Python (tf_env)",
   "language": "python",
   "name": "tf_env"
  },
  "language_info": {
   "codemirror_mode": {
    "name": "ipython",
    "version": 3
   },
   "file_extension": ".py",
   "mimetype": "text/x-python",
   "name": "python",
   "nbconvert_exporter": "python",
   "pygments_lexer": "ipython3",
   "version": "3.10.16"
  }
 },
 "nbformat": 4,
 "nbformat_minor": 5
}
