{
 "cells": [
  {
   "cell_type": "code",
   "execution_count": 35,
   "id": "350d02eb",
   "metadata": {},
   "outputs": [],
   "source": [
    "import tensorflow as tf\n",
    "input=[16.0]"
   ]
  },
  {
   "cell_type": "code",
   "execution_count": 36,
   "id": "9763f9bd",
   "metadata": {},
   "outputs": [
    {
     "data": {
      "text/plain": [
       "[16.0]"
      ]
     },
     "execution_count": 36,
     "metadata": {},
     "output_type": "execute_result"
    }
   ],
   "source": [
    "#Linear Activation Function, f(x)=x\n",
    "tf.keras.activations.linear(input)"
   ]
  },
  {
   "cell_type": "code",
   "execution_count": 37,
   "id": "0e4570d7",
   "metadata": {},
   "outputs": [
    {
     "name": "stdout",
     "output_type": "stream",
     "text": [
      "tf.Tensor([0.9999999], shape=(1,), dtype=float32)\n"
     ]
    }
   ],
   "source": [
    "#Sigmoid Activation Function, f(x)=1/(1+e^-x)\n",
    "print(tf.keras.activations.sigmoid(input))"
   ]
  },
  {
   "cell_type": "code",
   "execution_count": 38,
   "id": "ce3ded13",
   "metadata": {},
   "outputs": [
    {
     "name": "stdout",
     "output_type": "stream",
     "text": [
      "tf.Tensor([1.], shape=(1,), dtype=float32)\n"
     ]
    }
   ],
   "source": [
    "#Hyperbolic Tangent Activation Function, f(x)=tanh(x)\n",
    "print(tf.keras.activations.tanh(input))"
   ]
  },
  {
   "cell_type": "code",
   "execution_count": 39,
   "id": "da772747",
   "metadata": {},
   "outputs": [
    {
     "name": "stdout",
     "output_type": "stream",
     "text": [
      "tf.Tensor([16.], shape=(1,), dtype=float32)\n"
     ]
    }
   ],
   "source": [
    "#Rectified Linear Unit (ReLU) Activation Function, f(x)=max(0,x)\n",
    "print(tf.keras.activations.relu(input))"
   ]
  },
  {
   "cell_type": "code",
   "execution_count": 48,
   "id": "fee5df6a",
   "metadata": {},
   "outputs": [
    {
     "name": "stdout",
     "output_type": "stream",
     "text": [
      "tf.Tensor(-18.0, shape=(), dtype=float32)\n"
     ]
    }
   ],
   "source": [
    "#Leaky ReLU activation function\n",
    "print(tf.keras.layers.LeakyReLU(alpha=0.3)(tf.constant(-60.0)))"
   ]
  },
  {
   "cell_type": "code",
   "execution_count": null,
   "id": "b6314a07",
   "metadata": {},
   "outputs": [
    {
     "name": "stdout",
     "output_type": "stream",
     "text": [
      "tf.Tensor([2.3802667e-26 6.4702359e-26 1.7587924e-25 1.0000000e+00], shape=(4,), dtype=float32)\n"
     ]
    }
   ],
   "source": [
    "#Softmax Activation Function\n",
    "print(tf.keras.activations.softmax(tf.constant([1.0, 2.0, 3.0, 60.0])))"
   ]
  }
 ],
 "metadata": {
  "kernelspec": {
   "display_name": "Python (tf_env)",
   "language": "python",
   "name": "tf_env"
  },
  "language_info": {
   "codemirror_mode": {
    "name": "ipython",
    "version": 3
   },
   "file_extension": ".py",
   "mimetype": "text/x-python",
   "name": "python",
   "nbconvert_exporter": "python",
   "pygments_lexer": "ipython3",
   "version": "3.10.16"
  }
 },
 "nbformat": 4,
 "nbformat_minor": 5
}
