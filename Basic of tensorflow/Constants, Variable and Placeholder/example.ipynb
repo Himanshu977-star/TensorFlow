{
 "cells": [
  {
   "cell_type": "code",
   "execution_count": 1,
   "id": "55cf6c3e",
   "metadata": {},
   "outputs": [],
   "source": [
    "import tensorflow as tf"
   ]
  },
  {
   "cell_type": "code",
   "execution_count": 2,
   "id": "c1994223",
   "metadata": {},
   "outputs": [
    {
     "data": {
      "text/plain": [
       "<tf.Tensor: shape=(6,), dtype=int32, numpy=array([1, 2, 3, 4, 5, 6], dtype=int32)>"
      ]
     },
     "execution_count": 2,
     "metadata": {},
     "output_type": "execute_result"
    }
   ],
   "source": [
    "#Create a constant Variable\n",
    "constant_tensor=tf.constant([1,2,3,4,5,6])\n",
    "constant_tensor"
   ]
  },
  {
   "cell_type": "code",
   "execution_count": null,
   "id": "04c18142",
   "metadata": {},
   "outputs": [],
   "source": [
    "#variable: You can change value of tensor after creating variable\n"
   ]
  },
  {
   "cell_type": "code",
   "execution_count": 5,
   "id": "ae048e16",
   "metadata": {},
   "outputs": [
    {
     "data": {
      "text/plain": [
       "<tf.Tensor: shape=(3, 3), dtype=float32, numpy=\n",
       "array([[ 0.97601795, -2.3344069 ,  0.9267341 ],\n",
       "       [-1.0231696 ,  0.9104872 , -0.59432775],\n",
       "       [-1.1525564 , -1.617397  , -0.8186818 ]], dtype=float32)>"
      ]
     },
     "execution_count": 5,
     "metadata": {},
     "output_type": "execute_result"
    }
   ],
   "source": [
    "\n",
    "tf.random.normal(shape=(3,3))"
   ]
  },
  {
   "cell_type": "code",
   "execution_count": 6,
   "id": "3da15a77",
   "metadata": {},
   "outputs": [
    {
     "data": {
      "text/plain": [
       "<tf.Variable 'Variable:0' shape=(3, 3) dtype=float32, numpy=\n",
       "array([[ 1.0626944e-03, -1.1033828e+00,  1.2110455e+00],\n",
       "       [ 1.8174129e+00,  1.5247437e-01, -3.7905893e-01],\n",
       "       [-1.7855750e-01,  2.0802212e+00, -4.9902478e-01]], dtype=float32)>"
      ]
     },
     "execution_count": 6,
     "metadata": {},
     "output_type": "execute_result"
    }
   ],
   "source": [
    "initial_value=tf.random.normal(shape=(3,3))\n",
    "variable_tensor=tf.Variable(initial_value)\n",
    "variable_tensor"
   ]
  },
  {
   "cell_type": "code",
   "execution_count": 7,
   "id": "5853e1c1",
   "metadata": {},
   "outputs": [
    {
     "data": {
      "text/plain": [
       "<tf.Variable 'UnreadVariable' shape=(3, 3) dtype=float32, numpy=\n",
       "array([[-1.2654314 ,  0.42322707,  1.0252522 ],\n",
       "       [ 3.148815  , -1.6121726 , -0.5526703 ],\n",
       "       [-1.3516316 , -1.4930431 ,  0.80901355]], dtype=float32)>"
      ]
     },
     "execution_count": 7,
     "metadata": {},
     "output_type": "execute_result"
    }
   ],
   "source": [
    "new_value=tf.random.normal(shape=(3,3))\n",
    "variable_tensor.assign(new_value)"
   ]
  },
  {
   "cell_type": "code",
   "execution_count": 10,
   "id": "fad81217",
   "metadata": {},
   "outputs": [
    {
     "data": {
      "text/plain": [
       "<tf.Tensor: shape=(2, 3), dtype=float32, numpy=\n",
       "array([[1.       , 1.4142135, 1.7320508],\n",
       "       [2.       , 2.236068 , 2.4494898]], dtype=float32)>"
      ]
     },
     "execution_count": 10,
     "metadata": {},
     "output_type": "execute_result"
    }
   ],
   "source": [
    "#Placeholder: Used to fit data\n",
    "x=tf.constant([[1.0,2.0,3.0],[4.0,5.0,6.0]])\n",
    "y=tf.sqrt(x)\n",
    "y"
   ]
  },
  {
   "cell_type": "code",
   "execution_count": null,
   "id": "14fca7de",
   "metadata": {},
   "outputs": [],
   "source": []
  }
 ],
 "metadata": {
  "kernelspec": {
   "display_name": "Python (tf_env)",
   "language": "python",
   "name": "tf_env"
  },
  "language_info": {
   "codemirror_mode": {
    "name": "ipython",
    "version": 3
   },
   "file_extension": ".py",
   "mimetype": "text/x-python",
   "name": "python",
   "nbconvert_exporter": "python",
   "pygments_lexer": "ipython3",
   "version": "3.10.16"
  }
 },
 "nbformat": 4,
 "nbformat_minor": 5
}
